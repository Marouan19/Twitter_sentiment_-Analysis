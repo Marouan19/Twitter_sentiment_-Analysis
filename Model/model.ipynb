{
 "nbformat": 4,
 "nbformat_minor": 0,
 "metadata": {
  "colab": {
   "provenance": [],
   "gpuType": "T4"
  },
  "kernelspec": {
   "name": "python3",
   "language": "python",
   "display_name": "Python 3 (ipykernel)"
  },
  "language_info": {
   "name": "python"
  },
  "accelerator": "GPU"
 },
 "cells": [
  {
   "cell_type": "code",
   "source": [
    "!pip install pyspark"
   ],
   "metadata": {
    "colab": {
     "base_uri": "https://localhost:8080/"
    },
    "id": "-iPS4jqv0Glu",
    "outputId": "0041b453-4dc7-4214-b1b2-12f290d3474c",
    "ExecuteTime": {
     "end_time": "2024-05-16T14:39:34.954887Z",
     "start_time": "2024-05-16T14:39:28.372770Z"
    }
   },
   "execution_count": 1,
   "outputs": [
    {
     "name": "stdout",
     "output_type": "stream",
     "text": [
      "Requirement already satisfied: pyspark in /opt/anaconda3/lib/python3.11/site-packages (3.5.1)\r\n",
      "Requirement already satisfied: py4j==0.10.9.7 in /opt/anaconda3/lib/python3.11/site-packages (from pyspark) (0.10.9.7)\r\n"
     ]
    }
   ]
  },
  {
   "cell_type": "markdown",
   "source": [
    "# Nouvelle section"
   ],
   "metadata": {
    "id": "4H1-ysBf-w2N"
   }
  },
  {
   "cell_type": "code",
   "execution_count": 2,
   "metadata": {
    "id": "23-R51lG2quU",
    "ExecuteTime": {
     "end_time": "2024-05-16T14:39:35.150402Z",
     "start_time": "2024-05-16T14:39:34.955745Z"
    }
   },
   "outputs": [],
   "source": [
    "from pyspark.sql import SparkSession\n",
    "from pyspark.ml import Pipeline\n",
    "from pyspark.ml.feature import Tokenizer, StopWordsRemover, HashingTF, IDF\n",
    "from pyspark.ml.classification import RandomForestClassifier\n",
    "from pyspark.ml.evaluation import MulticlassClassificationEvaluator\n",
    "from pyspark.sql.functions import col\n",
    "from pyspark.sql.functions import udf, col\n",
    "from pyspark.sql.types import StringType\n",
    "from pyspark.ml.feature import Tokenizer, StopWordsRemover, HashingTF, IDF\n",
    "from pyspark.ml import Pipeline\n",
    "import re\n",
    "from pyspark.ml.feature import StringIndexer, IndexToString\n",
    "from pyspark.ml.classification import RandomForestClassifier\n",
    "from pyspark.ml.evaluation import MulticlassClassificationEvaluator\n"
   ]
  },
  {
   "cell_type": "code",
   "source": [
    "# Initialize a Spark session\n",
    "spark = SparkSession.builder.appName(\"TwitterSentimentAnalysis\").master('local[*]').getOrCreate()\n"
   ],
   "metadata": {
    "id": "K_QpF6LnEMzq",
    "ExecuteTime": {
     "end_time": "2024-05-16T14:39:47.450072Z",
     "start_time": "2024-05-16T14:39:35.151337Z"
    }
   },
   "execution_count": 3,
   "outputs": [
    {
     "name": "stderr",
     "output_type": "stream",
     "text": [
      "Setting default log level to \"WARN\".\n",
      "To adjust logging level use sc.setLogLevel(newLevel). For SparkR, use setLogLevel(newLevel).\n",
      "24/05/16 15:39:44 WARN NativeCodeLoader: Unable to load native-hadoop library for your platform... using builtin-java classes where applicable\n"
     ]
    }
   ]
  },
  {
   "cell_type": "code",
   "source": [
    "from pyspark.sql.types import StructType, StructField, StringType, IntegerType\n",
    "\n",
    "schema = StructType([\n",
    "    StructField(\"id\", IntegerType(), True),\n",
    "    StructField(\"branch\", StringType(), True),\n",
    "    StructField(\"sentiment\", StringType(), True),\n",
    "    StructField(\"tweet\", StringType(), True)\n",
    "])\n",
    "\n",
    "training = spark.read.csv(\"twitter_training.csv\", header=True, schema=schema)\n",
    "validation = spark.read.csv(\"twitter_validation.csv\", header=True, schema=schema)\n"
   ],
   "metadata": {
    "id": "LzIdqdF5Ej4R",
    "ExecuteTime": {
     "end_time": "2024-05-16T14:39:50.335977Z",
     "start_time": "2024-05-16T14:39:47.449421Z"
    }
   },
   "execution_count": 4,
   "outputs": []
  },
  {
   "cell_type": "code",
   "source": [
    "training.printSchema()\n",
    "validation.printSchema()"
   ],
   "metadata": {
    "colab": {
     "base_uri": "https://localhost:8080/"
    },
    "id": "YQU2fY6UFZj4",
    "outputId": "149df2fc-e9b9-4827-e7aa-e161b4979598",
    "ExecuteTime": {
     "end_time": "2024-05-16T14:39:50.385440Z",
     "start_time": "2024-05-16T14:39:50.335807Z"
    }
   },
   "execution_count": 5,
   "outputs": [
    {
     "name": "stdout",
     "output_type": "stream",
     "text": [
      "root\n",
      " |-- id: integer (nullable = true)\n",
      " |-- branch: string (nullable = true)\n",
      " |-- sentiment: string (nullable = true)\n",
      " |-- tweet: string (nullable = true)\n",
      "\n",
      "root\n",
      " |-- id: integer (nullable = true)\n",
      " |-- branch: string (nullable = true)\n",
      " |-- sentiment: string (nullable = true)\n",
      " |-- tweet: string (nullable = true)\n"
     ]
    }
   ]
  },
  {
   "cell_type": "code",
   "source": [
    "training.show()"
   ],
   "metadata": {
    "colab": {
     "base_uri": "https://localhost:8080/"
    },
    "id": "y75M43IcFFe_",
    "outputId": "4fb5fd57-2530-4341-afe5-ff58b3b89c29",
    "ExecuteTime": {
     "end_time": "2024-05-16T14:39:57.422535Z",
     "start_time": "2024-05-16T14:39:50.386367Z"
    }
   },
   "execution_count": 6,
   "outputs": [
    {
     "name": "stderr",
     "output_type": "stream",
     "text": [
      "24/05/16 15:39:54 WARN CSVHeaderChecker: CSV header does not conform to the schema.\n",
      " Header: tweet_id, topic, sentiment, tweet\n",
      " Schema: id, branch, sentiment, tweet\n",
      "Expected: id but found: tweet_id\n",
      "CSV file: file:///Users/marouandgh/IdeaProjects/Twitter_sentiment/Model/twitter_training.csv\n",
      "                                                                                \r"
     ]
    },
    {
     "name": "stdout",
     "output_type": "stream",
     "text": [
      "+----+-----------+---------+--------------------+\n",
      "|  id|     branch|sentiment|               tweet|\n",
      "+----+-----------+---------+--------------------+\n",
      "|2401|Borderlands| Positive|im getting on bor...|\n",
      "|2401|Borderlands| Positive|I am coming to th...|\n",
      "|2401|Borderlands| Positive|im getting on bor...|\n",
      "|2401|Borderlands| Positive|im coming on bord...|\n",
      "|2401|Borderlands| Positive|im getting on bor...|\n",
      "|2401|Borderlands| Positive|im getting into b...|\n",
      "|2402|Borderlands| Positive|So I spent a few ...|\n",
      "|2402|Borderlands| Positive|So I spent a coup...|\n",
      "|2402|Borderlands| Positive|So I spent a few ...|\n",
      "|2402|Borderlands| Positive|So I spent a few ...|\n",
      "|2402|Borderlands| Positive|2010 So I spent a...|\n",
      "|2402|Borderlands| Positive|                 was|\n",
      "|2403|Borderlands|  Neutral|Rock-Hard La Varl...|\n",
      "|2403|Borderlands|  Neutral|Rock-Hard La Varl...|\n",
      "|2403|Borderlands|  Neutral|Rock-Hard La Varl...|\n",
      "|2403|Borderlands|  Neutral|Rock-Hard La Vita...|\n",
      "|2403|Borderlands|  Neutral|Live Rock - Hard ...|\n",
      "|2403|Borderlands|  Neutral|I-Hard like me, R...|\n",
      "|2404|Borderlands| Positive|that was the firs...|\n",
      "|2404|Borderlands| Positive|this was the firs...|\n",
      "+----+-----------+---------+--------------------+\n"
     ]
    }
   ]
  },
  {
   "cell_type": "code",
   "source": [
    "validation.show()"
   ],
   "metadata": {
    "colab": {
     "base_uri": "https://localhost:8080/"
    },
    "id": "uaRo6VrkFN6X",
    "outputId": "cd53daac-6e83-4b9d-b747-472369b13448",
    "ExecuteTime": {
     "end_time": "2024-05-16T14:40:03.525149Z",
     "start_time": "2024-05-16T14:39:57.423305Z"
    }
   },
   "execution_count": 7,
   "outputs": [
    {
     "name": "stderr",
     "output_type": "stream",
     "text": [
      "24/05/16 15:40:01 WARN GarbageCollectionMetrics: To enable non-built-in garbage collector(s) List(G1 Concurrent GC), users should configure it(them) to spark.eventLog.gcMetrics.youngGenerationGarbageCollectors or spark.eventLog.gcMetrics.oldGenerationGarbageCollectors\n",
      "24/05/16 15:40:02 WARN CSVHeaderChecker: CSV header does not conform to the schema.\n",
      " Header: tweet_id, topic, sentiment, tweet\n",
      " Schema: id, branch, sentiment, tweet\n",
      "Expected: id but found: tweet_id\n",
      "CSV file: file:///Users/marouandgh/IdeaProjects/Twitter_sentiment/Model/twitter_validation.csv\n",
      "[Stage 1:>                                                          (0 + 1) / 1]\r"
     ]
    },
    {
     "name": "stdout",
     "output_type": "stream",
     "text": [
      "+-----+--------------------+----------+--------------------+\n",
      "|   id|              branch| sentiment|               tweet|\n",
      "+-----+--------------------+----------+--------------------+\n",
      "| 3364|            Facebook|Irrelevant|I mentioned on Fa...|\n",
      "|  352|              Amazon|   Neutral|BBC News - Amazon...|\n",
      "| 8312|           Microsoft|  Negative|@Microsoft Why do...|\n",
      "| 4371|               CS-GO|  Negative|CSGO matchmaking ...|\n",
      "| 4433|              Google|   Neutral|Now the President...|\n",
      "| 6273|                FIFA|  Negative|Hi @EAHelp I’ve h...|\n",
      "| 7925|           MaddenNFL|  Positive|Thank you @EAMadd...|\n",
      "| NULL|                NULL|      NULL|                NULL|\n",
      "| NULL|                NULL|      NULL|                NULL|\n",
      "| NULL|                NULL|      NULL|                NULL|\n",
      "|11332|TomClancysRainbowSix|  Positive|Rocket League, Se...|\n",
      "| 1107|      AssassinsCreed|  Positive|my ass still knee...|\n",
      "| 2069|          CallOfDuty|  Negative|FIX IT JESUS ! Pl...|\n",
      "| 3185|               Dota2|  Positive|The professional ...|\n",
      "| NULL|                NULL|      NULL|                NULL|\n",
      "| 1172|      AssassinsCreed|  Positive|Itching to assass...|\n",
      "| NULL|                NULL|      NULL|                NULL|\n",
      "|11783|             Verizon|  Negative|@FredTJoseph hey ...|\n",
      "| 4286|               CS-GO|   Neutral|CSGO WIngman (Im ...|\n",
      "| 8431|               NBA2K|  Negative|@NBA2K game sucks...|\n",
      "+-----+--------------------+----------+--------------------+\n"
     ]
    },
    {
     "name": "stderr",
     "output_type": "stream",
     "text": [
      "                                                                                \r"
     ]
    }
   ]
  },
  {
   "cell_type": "code",
   "source": [],
   "metadata": {
    "id": "wUODSJDjFrWb",
    "ExecuteTime": {
     "end_time": "2024-05-16T14:40:03.536441Z",
     "start_time": "2024-05-16T14:40:03.530478Z"
    }
   },
   "execution_count": 7,
   "outputs": []
  },
  {
   "cell_type": "code",
   "source": [
    "import matplotlib.pyplot as plt\n",
    "import seaborn as sns\n",
    "\n",
    "# Group data by sentiment and count the occurrences\n",
    "sentiment_counts = training.groupBy('sentiment').count().orderBy('sentiment')\n",
    "\n",
    "# Collect data to the driver\n",
    "sentiment_counts_collect = sentiment_counts.collect()\n",
    "\n",
    "# Extract sentiment labels and counts\n",
    "sentiments = [row['sentiment'] for row in sentiment_counts_collect]\n",
    "counts = [row['count'] for row in sentiment_counts_collect]\n",
    "\n",
    "# Plotting\n",
    "plt.barh(sentiments, counts, color=sns.color_palette('Dark2'))\n",
    "plt.gca().spines[['top', 'right']].set_visible(False)\n",
    "plt.xlabel('Count')\n",
    "plt.ylabel('Sentiment')\n",
    "plt.title('Sentiment Distribution')\n",
    "plt.show()\n"
   ],
   "metadata": {
    "colab": {
     "base_uri": "https://localhost:8080/",
     "height": 472
    },
    "id": "AgFGT8CpGQk6",
    "outputId": "57b4d97c-9394-4da4-eb7c-e0aee706a9ce",
    "ExecuteTime": {
     "end_time": "2024-05-16T14:40:15.624594Z",
     "start_time": "2024-05-16T14:40:03.547209Z"
    }
   },
   "execution_count": 8,
   "outputs": [
    {
     "name": "stderr",
     "output_type": "stream",
     "text": [
      "                                                                                \r"
     ]
    },
    {
     "data": {
      "text/plain": "<Figure size 640x480 with 1 Axes>",
      "image/png": "[encoded data removed]"
     },
     "metadata": {},
     "output_type": "display_data"
    }
   ]
  },
  {
   "cell_type": "code",
   "source": [
    "from pyspark.sql.functions import sum, col\n",
    "\n",
    "# Count null values in each column\n",
    "missing_values1 = training.agg(*[sum(col(c).isNull().cast(\"int\")).alias(c) for c in training.columns])\n",
    "\n",
    "# Show the result\n",
    "missing_values1.show()\n"
   ],
   "metadata": {
    "colab": {
     "base_uri": "https://localhost:8080/"
    },
    "id": "Dj69dWSaGw3J",
    "outputId": "4a66f469-c1c1-460b-d691-3bd27170a31e",
    "ExecuteTime": {
     "end_time": "2024-05-16T14:40:22.418838Z",
     "start_time": "2024-05-16T14:40:15.586909Z"
    }
   },
   "execution_count": 9,
   "outputs": [
    {
     "name": "stderr",
     "output_type": "stream",
     "text": [
      "24/05/16 15:40:18 WARN CSVHeaderChecker: CSV header does not conform to the schema.\n",
      " Header: tweet_id, topic, sentiment, tweet\n",
      " Schema: id, branch, sentiment, tweet\n",
      "Expected: id but found: tweet_id\n",
      "CSV file: file:///Users/marouandgh/IdeaProjects/Twitter_sentiment/Model/twitter_training.csv\n"
     ]
    },
    {
     "name": "stdout",
     "output_type": "stream",
     "text": [
      "+---+------+---------+-----+\n",
      "| id|branch|sentiment|tweet|\n",
      "+---+------+---------+-----+\n",
      "|  0|     0|        0|  686|\n",
      "+---+------+---------+-----+\n"
     ]
    },
    {
     "name": "stderr",
     "output_type": "stream",
     "text": [
      "                                                                                \r"
     ]
    }
   ]
  },
  {
   "cell_type": "code",
   "source": [
    "# Drop rows with any null values\n",
    "training = training.na.drop()\n",
    "\n",
    "# Show the updated DataFrame\n",
    "training.show()\n"
   ],
   "metadata": {
    "colab": {
     "base_uri": "https://localhost:8080/"
    },
    "id": "rC9K3-GqHqqp",
    "outputId": "3d47e689-df75-419b-e09b-521052edd3e5",
    "ExecuteTime": {
     "end_time": "2024-05-16T14:40:24.065899Z",
     "start_time": "2024-05-16T14:40:22.418834Z"
    }
   },
   "execution_count": 10,
   "outputs": [
    {
     "name": "stdout",
     "output_type": "stream",
     "text": [
      "+----+-----------+---------+--------------------+\n",
      "|  id|     branch|sentiment|               tweet|\n",
      "+----+-----------+---------+--------------------+\n",
      "|2401|Borderlands| Positive|im getting on bor...|\n",
      "|2401|Borderlands| Positive|I am coming to th...|\n",
      "|2401|Borderlands| Positive|im getting on bor...|\n",
      "|2401|Borderlands| Positive|im coming on bord...|\n",
      "|2401|Borderlands| Positive|im getting on bor...|\n",
      "|2401|Borderlands| Positive|im getting into b...|\n",
      "|2402|Borderlands| Positive|So I spent a few ...|\n",
      "|2402|Borderlands| Positive|So I spent a coup...|\n",
      "|2402|Borderlands| Positive|So I spent a few ...|\n",
      "|2402|Borderlands| Positive|So I spent a few ...|\n",
      "|2402|Borderlands| Positive|2010 So I spent a...|\n",
      "|2402|Borderlands| Positive|                 was|\n",
      "|2403|Borderlands|  Neutral|Rock-Hard La Varl...|\n",
      "|2403|Borderlands|  Neutral|Rock-Hard La Varl...|\n",
      "|2403|Borderlands|  Neutral|Rock-Hard La Varl...|\n",
      "|2403|Borderlands|  Neutral|Rock-Hard La Vita...|\n",
      "|2403|Borderlands|  Neutral|Live Rock - Hard ...|\n",
      "|2403|Borderlands|  Neutral|I-Hard like me, R...|\n",
      "|2404|Borderlands| Positive|that was the firs...|\n",
      "|2404|Borderlands| Positive|this was the firs...|\n",
      "+----+-----------+---------+--------------------+\n"
     ]
    },
    {
     "name": "stderr",
     "output_type": "stream",
     "text": [
      "24/05/16 15:40:23 WARN CSVHeaderChecker: CSV header does not conform to the schema.\n",
      " Header: tweet_id, topic, sentiment, tweet\n",
      " Schema: id, branch, sentiment, tweet\n",
      "Expected: id but found: tweet_id\n",
      "CSV file: file:///Users/marouandgh/IdeaProjects/Twitter_sentiment/Model/twitter_training.csv\n"
     ]
    }
   ]
  },
  {
   "cell_type": "code",
   "source": [
    "import matplotlib.pyplot as plt\n",
    "\n",
    "# Calculate sentiment distribution\n",
    "sentiment_distribution = training.groupBy('sentiment').count().orderBy('sentiment').toPandas()\n",
    "\n",
    "# Define colors\n",
    "colors = ['red', 'green', 'blue', 'gray']\n",
    "\n",
    "# Create subplots\n",
    "fig, axs = plt.subplots(1, 2, figsize=(16, 6))\n",
    "\n",
    "# Plotting pie chart for sentiment distribution with custom colors\n",
    "axs[0].pie(sentiment_distribution['count'], labels=sentiment_distribution['sentiment'], autopct='%1.1f%%',\n",
    "            startangle=90, wedgeprops={'linewidth': 0.5}, textprops={'fontsize': 12},\n",
    "            explode=[0.1, 0.1, 0.1, 0.1], colors=colors, shadow=True)\n",
    "axs[0].set_title('Sentiment Distribution - Pie Chart')\n",
    "\n",
    "# Plotting bar plot for sentiment distribution\n",
    "axs[1].bar(sentiment_distribution['sentiment'], sentiment_distribution['count'], color=colors)\n",
    "axs[1].set_title('Sentiment Distribution - Bar Plot')\n",
    "axs[1].set_xlabel('Sentiment')\n",
    "axs[1].set_ylabel('Count')\n",
    "axs[1].tick_params(axis='x', rotation=45)\n",
    "axs[1].grid(axis='y', linestyle='--', alpha=0.7)\n",
    "# Add text on top of each bar in the bar plot\n",
    "for i, count in enumerate(sentiment_distribution['count']):\n",
    "    axs[1].text(i, count + 0.5, str(count), ha='center', va='bottom', fontsize=10)\n",
    "\n",
    "plt.tight_layout()\n",
    "plt.show()\n"
   ],
   "metadata": {
    "colab": {
     "base_uri": "https://localhost:8080/",
     "height": 607
    },
    "id": "E79mf28LIZNO",
    "outputId": "b9e6321b-81c2-4e11-da16-3bfe3f956e2f",
    "ExecuteTime": {
     "end_time": "2024-05-16T14:40:29.117930Z",
     "start_time": "2024-05-16T14:40:24.066358Z"
    }
   },
   "execution_count": 11,
   "outputs": [
    {
     "name": "stderr",
     "output_type": "stream",
     "text": [
      "24/05/16 15:40:25 WARN CSVHeaderChecker: CSV header does not conform to the schema.\n",
      " Header: tweet_id, topic, sentiment, tweet\n",
      " Schema: id, branch, sentiment, tweet\n",
      "Expected: id but found: tweet_id\n",
      "CSV file: file:///Users/marouandgh/IdeaProjects/Twitter_sentiment/Model/twitter_training.csv\n",
      "                                                                                \r"
     ]
    },
    {
     "data": {
      "text/plain": "<Figure size 1600x600 with 2 Axes>",
      "image/png": "[encoded data removed]"
     },
     "metadata": {},
     "output_type": "display_data"
    }
   ]
  },
  {
   "cell_type": "code",
   "source": [
    "# Filter out rows with non-string values in the specified column\n",
    "def filter_non_string(df, column):\n",
    "    df = df.filter(df[column].isNotNull())\n",
    "    df = df.withColumn(column, df[column].cast(StringType()))\n",
    "    return df"
   ],
   "metadata": {
    "id": "z3226UnQK18r",
    "ExecuteTime": {
     "end_time": "2024-05-16T14:40:29.120465Z",
     "start_time": "2024-05-16T14:40:29.069343Z"
    }
   },
   "execution_count": 12,
   "outputs": []
  },
  {
   "cell_type": "code",
   "source": [
    "# Convert text to lowercase\n",
    "def normalize_text(text):\n",
    "    return text.lower()"
   ],
   "metadata": {
    "id": "Kszj9AC5K4Qr",
    "ExecuteTime": {
     "end_time": "2024-05-16T14:40:29.123767Z",
     "start_time": "2024-05-16T14:40:29.073785Z"
    }
   },
   "execution_count": 13,
   "outputs": []
  },
  {
   "cell_type": "code",
   "source": [
    "# Remove HTML tags from the text\n",
    "def remove_html_tags(text):\n",
    "    return re.sub(r'<.*?>', '', text)"
   ],
   "metadata": {
    "id": "6AUZEczyK6ly",
    "ExecuteTime": {
     "end_time": "2024-05-16T14:40:29.667760Z",
     "start_time": "2024-05-16T14:40:29.078897Z"
    }
   },
   "execution_count": 14,
   "outputs": []
  },
  {
   "cell_type": "code",
   "source": [
    "# Remove URLs or hyperlinks from the text\n",
    "def remove_urls(text):\n",
    "    return re.sub(r'http\\S+|www\\S+', '', text)"
   ],
   "metadata": {
    "id": "LSlOR4dVK8pk",
    "ExecuteTime": {
     "end_time": "2024-05-16T14:40:29.672694Z",
     "start_time": "2024-05-16T14:40:29.101332Z"
    }
   },
   "execution_count": 15,
   "outputs": []
  },
  {
   "cell_type": "code",
   "source": [
    "# Exclude numerical digits from the text\n",
    "def remove_numbers(text):\n",
    "    return re.sub(r'\\d+', '', text)"
   ],
   "metadata": {
    "id": "7y5PBd-LK-gO",
    "ExecuteTime": {
     "end_time": "2024-05-16T14:40:29.676600Z",
     "start_time": "2024-05-16T14:40:29.111103Z"
    }
   },
   "execution_count": 16,
   "outputs": []
  },
  {
   "cell_type": "code",
   "source": [
    "# Remove punctuation marks from the text\n",
    "def remove_punctuation(text):\n",
    "    return re.sub(r'[^\\w\\s]', '', text)"
   ],
   "metadata": {
    "id": "_c1bTEHjLAjv",
    "ExecuteTime": {
     "end_time": "2024-05-16T14:40:29.681175Z",
     "start_time": "2024-05-16T14:40:29.119596Z"
    }
   },
   "execution_count": 17,
   "outputs": []
  },
  {
   "cell_type": "code",
   "source": [
    "# Remove emojis from the text\n",
    "def remove_emojis(text):\n",
    "    emoji_pattern = re.compile(\"[\"\n",
    "                               u\"\\U0001F600-\\U0001F64F\"  # emoticons\n",
    "                               u\"\\U0001F300-\\U0001F5FF\"  # symbols & pictographs\n",
    "                               u\"\\U0001F680-\\U0001F6FF\"  # transport & map symbols\n",
    "                               u\"\\U0001F1E0-\\U0001F1FF\"  # flags (iOS)\n",
    "                               u\"\\U00002500-\\U00002BEF\"  # chinese char\n",
    "                               u\"\\U00002702-\\U000027B0\"\n",
    "                               u\"\\U00002702-\\U000027B0\"\n",
    "                               u\"\\U000024C2-\\U0001F251\"\n",
    "                               u\"\\U0001f926-\\U0001f937\"\n",
    "                               u\"\\U00010000-\\U0010ffff\"\n",
    "                               u\"\\u2640-\\u2642\"\n",
    "                               u\"\\u2600-\\u2B55\"\n",
    "                               u\"\\u200d\"\n",
    "                               u\"\\u23cf\"\n",
    "                               u\"\\u23e9\"\n",
    "                               u\"\\u231a\"\n",
    "                               u\"\\ufe0f\"  # dingbats\n",
    "                               u\"\\u3030\"\n",
    "                               \"]+\", flags=re.UNICODE)\n",
    "    return emoji_pattern.sub(r'', text)\n"
   ],
   "metadata": {
    "id": "REH3bFLAJLZ6",
    "ExecuteTime": {
     "end_time": "2024-05-16T14:40:29.689255Z",
     "start_time": "2024-05-16T14:40:29.158925Z"
    }
   },
   "execution_count": 18,
   "outputs": []
  },
  {
   "cell_type": "code",
   "source": [
    "from pyspark.ml.feature import RegexTokenizer\n",
    "\n",
    "def tokenize_text(dataframe, input_col, output_col):\n",
    "    \"\"\"Tokenize the text column in the given DataFrame.\"\"\"\n",
    "    tokenizer = RegexTokenizer(inputCol=input_col, outputCol=output_col, pattern=\"\\\\W\")\n",
    "    return tokenizer.transform(dataframe)"
   ],
   "metadata": {
    "id": "107Nf2pujqd_",
    "ExecuteTime": {
     "end_time": "2024-05-16T14:40:29.690239Z",
     "start_time": "2024-05-16T14:40:29.233032Z"
    }
   },
   "execution_count": 19,
   "outputs": []
  },
  {
   "cell_type": "code",
   "source": [
    "from pyspark.ml.feature import StopWordsRemover\n",
    "from pyspark.sql.functions import udf\n",
    "from pyspark.sql.types import ArrayType, StringType\n",
    "\n",
    "def remove_stopwords(tokens):\n",
    "    \"\"\"Eliminate common stopwords from the tokenized text using PySpark.\"\"\"\n",
    "    remover = StopWordsRemover(inputCol=\"tokens\", outputCol=\"filtered_tokens\")\n",
    "    return remover.transform(tokens).select(\"filtered_tokens\")"
   ],
   "metadata": {
    "id": "r6CM_we_j9-h",
    "ExecuteTime": {
     "end_time": "2024-05-16T14:40:29.690604Z",
     "start_time": "2024-05-16T14:40:29.246906Z"
    }
   },
   "execution_count": 20,
   "outputs": []
  },
  {
   "cell_type": "code",
   "source": [
    "from pyspark.ml.feature import CountVectorizer\n",
    "from pyspark.ml.feature import IDF\n",
    "from pyspark.sql.functions import udf\n",
    "from pyspark.sql.types import ArrayType\n",
    "\n",
    "def vectorize_data(text_data):\n",
    "    \"\"\"Vectorize the tokenized text data using TF-IDF in PySpark.\"\"\"\n",
    "    # Join the tokenized text into strings\n",
    "    text_data_strings = [\" \".join(tokens) for tokens in text_data]\n",
    "\n",
    "    # Create DataFrame from text data\n",
    "    text_df = spark.createDataFrame(zip(range(len(text_data_strings)), text_data_strings), [\"id\", \"text\"])\n",
    "\n",
    "    # Tokenize text\n",
    "    tokenizer = Tokenizer(inputCol=\"text\", outputCol=\"tokens\")\n",
    "    tokenized_df = tokenizer.transform(text_df)\n",
    "\n",
    "    # Count Vectorizer\n",
    "    cv = CountVectorizer(inputCol=\"tokens\", outputCol=\"raw_features\")\n",
    "    cv_model = cv.fit(tokenized_df)\n",
    "    count_vectorized_df = cv_model.transform(tokenized_df)\n",
    "\n",
    "    # Compute IDF\n",
    "    idf = IDF(inputCol=\"raw_features\", outputCol=\"features\")\n",
    "    idf_model = idf.fit(count_vectorized_df)\n",
    "    tfidf_vectorized_df = idf_model.transform(count_vectorized_df)\n",
    "\n",
    "    # Select only the features column\n",
    "    select_features_udf = udf(lambda features: features.toArray().tolist(), ArrayType())\n",
    "    return tfidf_vectorized_df.select(\"id\", select_features_udf(\"features\")).withColumnRenamed(\"<lambda>(features)\", \"tfidf_vectors\"), cv_model\n"
   ],
   "metadata": {
    "id": "i0BCsnAvkN0o",
    "ExecuteTime": {
     "end_time": "2024-05-16T14:40:29.691126Z",
     "start_time": "2024-05-16T14:40:29.257944Z"
    }
   },
   "execution_count": 21,
   "outputs": []
  },
  {
   "cell_type": "code",
   "source": [
    "from pyspark.sql.functions import udf\n",
    "from pyspark.sql.types import ArrayType, StringType\n",
    "from pyspark.ml.feature import StopWordsRemover\n",
    "from pyspark.ml.feature import Tokenizer\n",
    "\n",
    "def preprocess_text(df):\n",
    "    # Filter non-string values in the 'tweet' column\n",
    "    df = filter_non_string(df, 'tweet')\n",
    "    # Define UDFs for text preprocessing steps\n",
    "    normalize_text_udf = udf(normalize_text, StringType())\n",
    "    remove_html_tags_udf = udf(remove_html_tags, StringType())\n",
    "    remove_urls_udf = udf(remove_urls, StringType())\n",
    "    remove_numbers_udf = udf(remove_numbers, StringType())\n",
    "    remove_punctuation_udf = udf(remove_punctuation, StringType())\n",
    "    remove_emojis_udf = udf(remove_emojis, StringType())\n",
    "\n",
    "    # Apply text preprocessing steps using DataFrame transformations\n",
    "    df = df.withColumn(\"tweet\", normalize_text_udf(\"tweet\"))\n",
    "    df = df.withColumn(\"tweet\", remove_html_tags_udf(\"tweet\"))\n",
    "    df = df.withColumn(\"tweet\", remove_urls_udf(\"tweet\"))\n",
    "    df = df.withColumn(\"tweet\", remove_numbers_udf(\"tweet\"))\n",
    "    df = df.withColumn(\"tweet\", remove_punctuation_udf(\"tweet\"))\n",
    "\n",
    "    # Tokenize text\n",
    "    tokenizer = Tokenizer(inputCol=\"tweet\", outputCol=\"tokens\")\n",
    "    df = tokenizer.transform(df)\n",
    "\n",
    "    # Remove stopwords\n",
    "    remover = StopWordsRemover(inputCol=\"tokens\", outputCol=\"filtered_tokens\")\n",
    "    df = remover.transform(df).select(\"branch\",\"tweet\",'sentiment', \"filtered_tokens\")\n",
    "\n",
    "\n",
    "    return df\n",
    "\n",
    "# Assuming 'training' is your Spark DataFrame\n",
    "df_processed = preprocess_text(training)\n",
    "test_validation=preprocess_text(validation)\n"
   ],
   "metadata": {
    "id": "RJNwEPNUkjXL",
    "ExecuteTime": {
     "end_time": "2024-05-16T14:40:33.688382Z",
     "start_time": "2024-05-16T14:40:29.269800Z"
    }
   },
   "execution_count": 22,
   "outputs": [
    {
     "name": "stderr",
     "output_type": "stream",
     "text": [
      "24/05/16 15:40:32 WARN StopWordsRemover: Default locale set was [en_MA]; however, it was not found in available locales in JVM, falling back to en_US locale. Set param `locale` in order to respect another locale.\n",
      "24/05/16 15:40:33 WARN StopWordsRemover: Default locale set was [en_MA]; however, it was not found in available locales in JVM, falling back to en_US locale. Set param `locale` in order to respect another locale.\n"
     ]
    }
   ]
  },
  {
   "cell_type": "code",
   "source": [
    "df_processed.show()"
   ],
   "metadata": {
    "colab": {
     "base_uri": "https://localhost:8080/"
    },
    "id": "YUFv9EvXim_d",
    "outputId": "2807821b-7b20-4052-dd50-e08afb999a89",
    "ExecuteTime": {
     "end_time": "2024-05-16T14:40:39.358700Z",
     "start_time": "2024-05-16T14:40:33.692544Z"
    }
   },
   "execution_count": 23,
   "outputs": [
    {
     "name": "stderr",
     "output_type": "stream",
     "text": [
      "24/05/16 15:40:38 WARN CSVHeaderChecker: CSV header does not conform to the schema.\n",
      " Header: tweet_id, topic, sentiment, tweet\n",
      " Schema: id, branch, sentiment, tweet\n",
      "Expected: id but found: tweet_id\n",
      "CSV file: file:///Users/marouandgh/IdeaProjects/Twitter_sentiment/Model/twitter_training.csv\n"
     ]
    },
    {
     "name": "stdout",
     "output_type": "stream",
     "text": [
      "+-----------+--------------------+---------+--------------------+\n",
      "|     branch|               tweet|sentiment|     filtered_tokens|\n",
      "+-----------+--------------------+---------+--------------------+\n",
      "|Borderlands|im getting on bor...| Positive|[im, getting, bor...|\n",
      "|Borderlands|i am coming to th...| Positive|[coming, borders,...|\n",
      "|Borderlands|im getting on bor...| Positive|[im, getting, bor...|\n",
      "|Borderlands|im coming on bord...| Positive|[im, coming, bord...|\n",
      "|Borderlands|im getting on bor...| Positive|[im, getting, bor...|\n",
      "|Borderlands|im getting into b...| Positive|[im, getting, bor...|\n",
      "|Borderlands|so i spent a few ...| Positive|[spent, hours, ma...|\n",
      "|Borderlands|so i spent a coup...| Positive|[spent, couple, h...|\n",
      "|Borderlands|so i spent a few ...| Positive|[spent, hours, so...|\n",
      "|Borderlands|so i spent a few ...| Positive|[spent, hours, ma...|\n",
      "|Borderlands| so i spent a few...| Positive|[, spent, hours, ...|\n",
      "|Borderlands|                 was| Positive|                  []|\n",
      "|Borderlands|rockhard la varlo...|  Neutral|[rockhard, la, va...|\n",
      "|Borderlands|rockhard la varlo...|  Neutral|[rockhard, la, va...|\n",
      "|Borderlands|rockhard la varlo...|  Neutral|[rockhard, la, va...|\n",
      "|Borderlands|rockhard la vita ...|  Neutral|[rockhard, la, vi...|\n",
      "|Borderlands|live rock  hard m...|  Neutral|[live, rock, , ha...|\n",
      "|Borderlands|ihard like me rar...|  Neutral|[ihard, like, rar...|\n",
      "|Borderlands|that was the firs...| Positive|[first, borderlan...|\n",
      "|Borderlands|this was the firs...| Positive|[first, borderlan...|\n",
      "+-----------+--------------------+---------+--------------------+\n"
     ]
    },
    {
     "name": "stderr",
     "output_type": "stream",
     "text": [
      "                                                                                \r"
     ]
    }
   ]
  },
  {
   "cell_type": "code",
   "source": [
    "test_validation.show()"
   ],
   "metadata": {
    "colab": {
     "base_uri": "https://localhost:8080/"
    },
    "id": "idc0GPA_9Jxe",
    "outputId": "fcd73d3b-811d-4b64-da7b-80de938d7919",
    "ExecuteTime": {
     "end_time": "2024-05-16T14:40:40.769958Z",
     "start_time": "2024-05-16T14:40:39.363344Z"
    }
   },
   "execution_count": 24,
   "outputs": [
    {
     "name": "stdout",
     "output_type": "stream",
     "text": [
      "+--------------------+--------------------+----------+--------------------+\n",
      "|              branch|               tweet| sentiment|     filtered_tokens|\n",
      "+--------------------+--------------------+----------+--------------------+\n",
      "|            Facebook|i mentioned on fa...|Irrelevant|[mentioned, faceb...|\n",
      "|              Amazon|bbc news  amazon ...|   Neutral|[bbc, news, , ama...|\n",
      "|           Microsoft|microsoft why do ...|  Negative|[microsoft, pay, ...|\n",
      "|               CS-GO|csgo matchmaking ...|  Negative|[csgo, matchmakin...|\n",
      "|              Google|now the president...|   Neutral|[president, slapp...|\n",
      "|                FIFA|hi eahelp ive had...|  Negative|[hi, eahelp, ive,...|\n",
      "|           MaddenNFL|thank you eamadde...|  Positive|[thank, eamaddennfl]|\n",
      "|TomClancysRainbowSix|rocket league sea...|  Positive|[rocket, league, ...|\n",
      "|      AssassinsCreed|my ass still knee...|  Positive|[ass, still, knee...|\n",
      "|          CallOfDuty|fix it jesus  ple...|  Negative|[fix, jesus, , pl...|\n",
      "|               Dota2|the professional ...|  Positive|[professional, do...|\n",
      "|      AssassinsCreed|itching to assass...|  Positive|[itching, assassi...|\n",
      "|             Verizon|fredtjoseph hey f...|  Negative|[fredtjoseph, hey...|\n",
      "|               CS-GO|csgo wingman im s...|   Neutral|[csgo, wingman, i...|\n",
      "|               NBA2K|nbak game sucks d...|  Negative|[nbak, game, suck...|\n",
      "|              Nvidia|congrats to the n...|  Positive|[congrats, nvidia...|\n",
      "| GrandTheftAuto(GTA)|    yeah and its fun|  Positive|         [yeah, fun]|\n",
      "|               Dota2|       fuck my life |  Negative|        [fuck, life]|\n",
      "|RedDeadRedemption...|happy birthday re...|  Positive|[happy, birthday,...|\n",
      "|           Microsoft|what does that sa...|  Negative|[say, microsoft, ...|\n",
      "+--------------------+--------------------+----------+--------------------+\n"
     ]
    },
    {
     "name": "stderr",
     "output_type": "stream",
     "text": [
      "24/05/16 15:40:40 WARN CSVHeaderChecker: CSV header does not conform to the schema.\n",
      " Header: topic, sentiment, tweet\n",
      " Schema: branch, sentiment, tweet\n",
      "Expected: branch but found: topic\n",
      "CSV file: file:///Users/marouandgh/IdeaProjects/Twitter_sentiment/Model/twitter_validation.csv\n"
     ]
    }
   ]
  },
  {
   "cell_type": "code",
   "source": [
    "from pyspark.sql.functions import concat_ws\n",
    "\n",
    "# Convert list of words into a single string for each entry in 'tweet' column\n",
    "df_processed = df_processed.withColumn(\"tweet\", concat_ws(\" \", \"filtered_tokens\"))\n",
    "\n",
    "# Show the updated DataFrame\n",
    "df_processed.show()"
   ],
   "metadata": {
    "colab": {
     "base_uri": "https://localhost:8080/"
    },
    "id": "2_j3y_30KrFP",
    "outputId": "2cf27d04-d375-4594-9b3f-40517ad2c544",
    "ExecuteTime": {
     "end_time": "2024-05-16T14:40:46.927844Z",
     "start_time": "2024-05-16T14:40:40.785144Z"
    }
   },
   "execution_count": 25,
   "outputs": [
    {
     "name": "stderr",
     "output_type": "stream",
     "text": [
      "24/05/16 15:40:46 WARN CSVHeaderChecker: CSV header does not conform to the schema.\n",
      " Header: tweet_id, topic, sentiment, tweet\n",
      " Schema: id, branch, sentiment, tweet\n",
      "Expected: id but found: tweet_id\n",
      "CSV file: file:///Users/marouandgh/IdeaProjects/Twitter_sentiment/Model/twitter_training.csv\n"
     ]
    },
    {
     "name": "stdout",
     "output_type": "stream",
     "text": [
      "+-----------+--------------------+---------+--------------------+\n",
      "|     branch|               tweet|sentiment|     filtered_tokens|\n",
      "+-----------+--------------------+---------+--------------------+\n",
      "|Borderlands|im getting border...| Positive|[im, getting, bor...|\n",
      "|Borderlands| coming borders kill| Positive|[coming, borders,...|\n",
      "|Borderlands|im getting border...| Positive|[im, getting, bor...|\n",
      "|Borderlands|im coming borderl...| Positive|[im, coming, bord...|\n",
      "|Borderlands|im getting border...| Positive|[im, getting, bor...|\n",
      "|Borderlands|im getting border...| Positive|[im, getting, bor...|\n",
      "|Borderlands|spent hours makin...| Positive|[spent, hours, ma...|\n",
      "|Borderlands|spent couple hour...| Positive|[spent, couple, h...|\n",
      "|Borderlands|spent hours somet...| Positive|[spent, hours, so...|\n",
      "|Borderlands|spent hours makin...| Positive|[spent, hours, ma...|\n",
      "|Borderlands| spent hours maki...| Positive|[, spent, hours, ...|\n",
      "|Borderlands|                    | Positive|                  []|\n",
      "|Borderlands|rockhard la varlo...|  Neutral|[rockhard, la, va...|\n",
      "|Borderlands|rockhard la varlo...|  Neutral|[rockhard, la, va...|\n",
      "|Borderlands|rockhard la varlo...|  Neutral|[rockhard, la, va...|\n",
      "|Borderlands|rockhard la vita ...|  Neutral|[rockhard, la, vi...|\n",
      "|Borderlands|live rock  hard m...|  Neutral|[live, rock, , ha...|\n",
      "|Borderlands|ihard like rare l...|  Neutral|[ihard, like, rar...|\n",
      "|Borderlands|first borderlands...| Positive|[first, borderlan...|\n",
      "|Borderlands|first borderlands...| Positive|[first, borderlan...|\n",
      "+-----------+--------------------+---------+--------------------+\n"
     ]
    },
    {
     "name": "stderr",
     "output_type": "stream",
     "text": [
      "                                                                                \r"
     ]
    }
   ]
  },
  {
   "cell_type": "code",
   "source": [
    "from pyspark.sql.functions import concat_ws\n",
    "\n",
    "# Convert list of words into a single string for each entry in 'tweet' column\n",
    "test_validation = test_validation.withColumn(\"tweet\", concat_ws(\" \", \"filtered_tokens\"))\n",
    "\n",
    "# Show the updated DataFrame\n",
    "test_validation.show()"
   ],
   "metadata": {
    "colab": {
     "base_uri": "https://localhost:8080/"
    },
    "id": "B_9kqLrI9RZ8",
    "outputId": "e1b0be36-5cdf-478c-e8c4-9019a1944264",
    "ExecuteTime": {
     "end_time": "2024-05-16T14:40:48.765010Z",
     "start_time": "2024-05-16T14:40:46.930746Z"
    }
   },
   "execution_count": 26,
   "outputs": [
    {
     "name": "stderr",
     "output_type": "stream",
     "text": [
      "24/05/16 15:40:48 WARN CSVHeaderChecker: CSV header does not conform to the schema.\n",
      " Header: topic, sentiment, tweet\n",
      " Schema: branch, sentiment, tweet\n",
      "Expected: branch but found: topic\n",
      "CSV file: file:///Users/marouandgh/IdeaProjects/Twitter_sentiment/Model/twitter_validation.csv\n"
     ]
    },
    {
     "name": "stdout",
     "output_type": "stream",
     "text": [
      "+--------------------+--------------------+----------+--------------------+\n",
      "|              branch|               tweet| sentiment|     filtered_tokens|\n",
      "+--------------------+--------------------+----------+--------------------+\n",
      "|            Facebook|mentioned faceboo...|Irrelevant|[mentioned, faceb...|\n",
      "|              Amazon|bbc news  amazon ...|   Neutral|[bbc, news, , ama...|\n",
      "|           Microsoft|microsoft pay wor...|  Negative|[microsoft, pay, ...|\n",
      "|               CS-GO|csgo matchmaking ...|  Negative|[csgo, matchmakin...|\n",
      "|              Google|president slappin...|   Neutral|[president, slapp...|\n",
      "|                FIFA|hi eahelp ive mad...|  Negative|[hi, eahelp, ive,...|\n",
      "|           MaddenNFL|   thank eamaddennfl|  Positive|[thank, eamaddennfl]|\n",
      "|TomClancysRainbowSix|rocket league sea...|  Positive|[rocket, league, ...|\n",
      "|      AssassinsCreed|ass still kneedee...|  Positive|[ass, still, knee...|\n",
      "|          CallOfDuty|fix jesus  please...|  Negative|[fix, jesus, , pl...|\n",
      "|               Dota2|professional dota...|  Positive|[professional, do...|\n",
      "|      AssassinsCreed| itching assassinate|  Positive|[itching, assassi...|\n",
      "|             Verizon|fredtjoseph hey f...|  Negative|[fredtjoseph, hey...|\n",
      "|               CS-GO|csgo wingman im s...|   Neutral|[csgo, wingman, i...|\n",
      "|               NBA2K|nbak game sucks  ...|  Negative|[nbak, game, suck...|\n",
      "|              Nvidia|congrats nvidia n...|  Positive|[congrats, nvidia...|\n",
      "| GrandTheftAuto(GTA)|            yeah fun|  Positive|         [yeah, fun]|\n",
      "|               Dota2|           fuck life|  Negative|        [fuck, life]|\n",
      "|RedDeadRedemption...|happy birthday re...|  Positive|[happy, birthday,...|\n",
      "|           Microsoft|say microsoft har...|  Negative|[say, microsoft, ...|\n",
      "+--------------------+--------------------+----------+--------------------+\n"
     ]
    }
   ]
  },
  {
   "cell_type": "code",
   "source": [
    "df_processed.show()\n"
   ],
   "metadata": {
    "colab": {
     "base_uri": "https://localhost:8080/"
    },
    "id": "8CM2SEhjn4Kw",
    "outputId": "c0a3b96b-d130-480d-e0f7-3a3c81a9ab87",
    "ExecuteTime": {
     "end_time": "2024-05-16T14:40:50.537102Z",
     "start_time": "2024-05-16T14:40:48.754261Z"
    }
   },
   "execution_count": 27,
   "outputs": [
    {
     "name": "stderr",
     "output_type": "stream",
     "text": [
      "24/05/16 15:40:49 WARN CSVHeaderChecker: CSV header does not conform to the schema.\n",
      " Header: tweet_id, topic, sentiment, tweet\n",
      " Schema: id, branch, sentiment, tweet\n",
      "Expected: id but found: tweet_id\n",
      "CSV file: file:///Users/marouandgh/IdeaProjects/Twitter_sentiment/Model/twitter_training.csv\n",
      "                                                                                \r"
     ]
    },
    {
     "name": "stdout",
     "output_type": "stream",
     "text": [
      "+-----------+--------------------+---------+--------------------+\n",
      "|     branch|               tweet|sentiment|     filtered_tokens|\n",
      "+-----------+--------------------+---------+--------------------+\n",
      "|Borderlands|im getting border...| Positive|[im, getting, bor...|\n",
      "|Borderlands| coming borders kill| Positive|[coming, borders,...|\n",
      "|Borderlands|im getting border...| Positive|[im, getting, bor...|\n",
      "|Borderlands|im coming borderl...| Positive|[im, coming, bord...|\n",
      "|Borderlands|im getting border...| Positive|[im, getting, bor...|\n",
      "|Borderlands|im getting border...| Positive|[im, getting, bor...|\n",
      "|Borderlands|spent hours makin...| Positive|[spent, hours, ma...|\n",
      "|Borderlands|spent couple hour...| Positive|[spent, couple, h...|\n",
      "|Borderlands|spent hours somet...| Positive|[spent, hours, so...|\n",
      "|Borderlands|spent hours makin...| Positive|[spent, hours, ma...|\n",
      "|Borderlands| spent hours maki...| Positive|[, spent, hours, ...|\n",
      "|Borderlands|                    | Positive|                  []|\n",
      "|Borderlands|rockhard la varlo...|  Neutral|[rockhard, la, va...|\n",
      "|Borderlands|rockhard la varlo...|  Neutral|[rockhard, la, va...|\n",
      "|Borderlands|rockhard la varlo...|  Neutral|[rockhard, la, va...|\n",
      "|Borderlands|rockhard la vita ...|  Neutral|[rockhard, la, vi...|\n",
      "|Borderlands|live rock  hard m...|  Neutral|[live, rock, , ha...|\n",
      "|Borderlands|ihard like rare l...|  Neutral|[ihard, like, rar...|\n",
      "|Borderlands|first borderlands...| Positive|[first, borderlan...|\n",
      "|Borderlands|first borderlands...| Positive|[first, borderlan...|\n",
      "+-----------+--------------------+---------+--------------------+\n"
     ]
    }
   ]
  },
  {
   "cell_type": "code",
   "source": [
    "from pyspark.ml.feature import HashingTF, CountVectorizer\n",
    "from pyspark.ml.classification import LogisticRegression , LogisticRegressionModel\n",
    "from pyspark.ml.evaluation import MulticlassClassificationEvaluator\n",
    "from pyspark.ml import Pipeline\n",
    "\n",
    "# Split data into training and testing sets\n",
    "train_df, test_df = df_processed.randomSplit([0.8, 0.2], seed=42)\n",
    "\n",
    "# Assuming 'sentiment' column is your label column\n",
    "indexer = StringIndexer(inputCol=\"sentiment\", outputCol=\"label\")\n",
    "\n",
    "# Using CountVectorizer\n",
    "cv = CountVectorizer(inputCol=\"filtered_tokens\", outputCol=\"features\", vocabSize=50000)\n",
    "\n",
    "lr = LogisticRegression(featuresCol=\"features\", labelCol=\"label\", maxIter=1000, regParam=0.01)\n",
    "\n",
    "pipeline = Pipeline(stages=[cv,indexer])\n",
    "\n",
    "pipeline_fit = pipeline.fit(train_df)\n",
    "train_df=pipeline_fit.transform(train_df)\n",
    "\n",
    "\n",
    "model = lr.fit(train_df)\n",
    "test_df = pipeline_fit.transform(test_df)\n",
    "predictions = model.transform(test_df)\n",
    "# Evaluate the model\n",
    "evaluator = MulticlassClassificationEvaluator(predictionCol=\"prediction\", labelCol=\"label\", metricName=\"accuracy\")\n",
    "accuracy = evaluator.evaluate(predictions)\n",
    "print(\"Test Accuracy:\", accuracy)\n"
   ],
   "metadata": {
    "colab": {
     "base_uri": "https://localhost:8080/"
    },
    "id": "pXvFcL4e4LPV",
    "outputId": "43abee3d-9036-45b2-a302-98d3cad6ad17",
    "ExecuteTime": {
     "end_time": "2024-05-16T14:51:02.156943Z",
     "start_time": "2024-05-16T14:40:50.548386Z"
    }
   },
   "execution_count": 28,
   "outputs": [
    {
     "name": "stderr",
     "output_type": "stream",
     "text": [
      "24/05/16 15:40:52 WARN CSVHeaderChecker: CSV header does not conform to the schema.\n",
      " Header: tweet_id, topic, sentiment, tweet\n",
      " Schema: id, branch, sentiment, tweet\n",
      "Expected: id but found: tweet_id\n",
      "CSV file: file:///Users/marouandgh/IdeaProjects/Twitter_sentiment/Model/twitter_training.csv\n",
      "24/05/16 15:41:03 WARN CSVHeaderChecker: CSV header does not conform to the schema.\n",
      " Header: tweet_id, topic, sentiment, tweet\n",
      " Schema: id, branch, sentiment, tweet\n",
      "Expected: id but found: tweet_id\n",
      "CSV file: file:///Users/marouandgh/IdeaProjects/Twitter_sentiment/Model/twitter_training.csv\n",
      "24/05/16 15:41:10 WARN CSVHeaderChecker: CSV header does not conform to the schema.\n",
      " Header: tweet_id, topic, sentiment, tweet\n",
      " Schema: id, branch, sentiment, tweet\n",
      "Expected: id but found: tweet_id\n",
      "CSV file: file:///Users/marouandgh/IdeaProjects/Twitter_sentiment/Model/twitter_training.csv\n",
      "24/05/16 15:41:17 WARN InstanceBuilder: Failed to load implementation from:dev.ludovic.netlib.blas.JNIBLAS\n",
      "24/05/16 15:41:17 WARN InstanceBuilder: Failed to load implementation from:dev.ludovic.netlib.blas.VectorBLAS\n",
      "24/05/16 15:41:18 WARN CSVHeaderChecker: CSV header does not conform to the schema.\n",
      " Header: tweet_id, topic, sentiment, tweet\n",
      " Schema: id, branch, sentiment, tweet\n",
      "Expected: id but found: tweet_id\n",
      "CSV file: file:///Users/marouandgh/IdeaProjects/Twitter_sentiment/Model/twitter_training.csv\n",
      "24/05/16 15:50:51 WARN DAGScheduler: Broadcasting large task binary with size 1597.2 KiB\n",
      "24/05/16 15:50:53 WARN CSVHeaderChecker: CSV header does not conform to the schema.\n",
      " Header: tweet_id, topic, sentiment, tweet\n",
      " Schema: id, branch, sentiment, tweet\n",
      "Expected: id but found: tweet_id\n",
      "CSV file: file:///Users/marouandgh/IdeaProjects/Twitter_sentiment/Model/twitter_training.csv\n"
     ]
    },
    {
     "name": "stdout",
     "output_type": "stream",
     "text": [
      "Test Accuracy: 0.8487394957983193\n"
     ]
    },
    {
     "name": "stderr",
     "output_type": "stream",
     "text": [
      "                                                                                \r"
     ]
    }
   ]
  },
  {
   "cell_type": "code",
   "source": [
    "# Save the model\n",
    "model.write().overwrite().save(\"LrModel\")\n",
    "pipeline_fit.write().overwrite().save('Pipline')\n"
   ],
   "metadata": {
    "id": "wm4qc1w-9MFU",
    "ExecuteTime": {
     "end_time": "2024-05-16T14:51:14.781889Z",
     "start_time": "2024-05-16T14:51:02.166243Z"
    }
   },
   "execution_count": 29,
   "outputs": [
    {
     "name": "stderr",
     "output_type": "stream",
     "text": [
      "24/05/16 15:51:07 WARN TaskSetManager: Stage 114 contains a task of very large size (1108 KiB). The maximum recommended task size is 1000 KiB.\n",
      "                                                                                \r"
     ]
    }
   ]
  },
  {
   "cell_type": "code",
   "source": [
    "from pyspark.ml import PipelineModel\n",
    "from pyspark.ml.evaluation import MulticlassClassificationEvaluator\n",
    "pipline_path = \"Pipline\"\n",
    "pipeline = PipelineModel.load(pipline_path)\n",
    "lr_model = LogisticRegressionModel.load('LrModel')\n",
    "df_chil3iba_chil3iba = pipeline.transform(test_validation)\n",
    "predictionston = lr_model.transform(df_chil3iba_chil3iba)\n",
    "evaluator = MulticlassClassificationEvaluator(predictionCol=\"prediction\", labelCol=\"label\", metricName=\"accuracy\")\n",
    "accuracy = evaluator.evaluate(predictionston)\n",
    "print(\"Validation Accuracy:\", accuracy)\n"
   ],
   "metadata": {
    "colab": {
     "base_uri": "https://localhost:8080/"
    },
    "id": "k_ylrJez_FQo",
    "outputId": "c884ecc0-e68e-4eef-f45e-7ef2b593f61b",
    "ExecuteTime": {
     "end_time": "2024-05-16T14:51:23.014776Z",
     "start_time": "2024-05-16T14:51:14.778190Z"
    }
   },
   "execution_count": 30,
   "outputs": [
    {
     "name": "stderr",
     "output_type": "stream",
     "text": [
      "24/05/16 15:51:22 WARN DAGScheduler: Broadcasting large task binary with size 1586.6 KiB\n"
     ]
    },
    {
     "name": "stdout",
     "output_type": "stream",
     "text": [
      "Validation Accuracy: 0.895\n"
     ]
    }
   ]
  },
  {
   "cell_type": "code",
   "source": [],
   "metadata": {
    "id": "pZ2YBwvUDy05",
    "ExecuteTime": {
     "end_time": "2024-05-16T14:51:23.019753Z",
     "start_time": "2024-05-16T14:51:23.018559Z"
    }
   },
   "execution_count": 30,
   "outputs": []
  }
 ]
}
